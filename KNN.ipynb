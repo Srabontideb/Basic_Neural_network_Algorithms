{
  "nbformat": 4,
  "nbformat_minor": 0,
  "metadata": {
    "colab": {
      "provenance": [],
      "authorship_tag": "ABX9TyOg7wJ2Tc/Zg0o0TTbRlBwZ",
      "include_colab_link": true
    },
    "kernelspec": {
      "name": "python3",
      "display_name": "Python 3"
    },
    "language_info": {
      "name": "python"
    }
  },
  "cells": [
    {
      "cell_type": "markdown",
      "metadata": {
        "id": "view-in-github",
        "colab_type": "text"
      },
      "source": [
        "<a href=\"https://colab.research.google.com/github/Srabontideb/Basic_Neural_network_Algorithms/blob/main/KNN.ipynb\" target=\"_parent\"><img src=\"https://colab.research.google.com/assets/colab-badge.svg\" alt=\"Open In Colab\"/></a>"
      ]
    },
    {
      "cell_type": "code",
      "execution_count": null,
      "metadata": {
        "id": "ySeQFPrZ26VT"
      },
      "outputs": [],
      "source": [
        "import math\n",
        "import random\n",
        "import numpy as np\n",
        "import matplotlib.pyplot as plt\n",
        "\n",
        "#Build-in function\n",
        "from sklearn.neighbors import KNeighborsClassifier\n",
        "from sklearn.metrics import accuracy_score"
      ]
    },
    {
      "cell_type": "markdown",
      "source": [
        "### Euclidean distance calculation"
      ],
      "metadata": {
        "id": "T0n9aSGc3n6j"
      }
    },
    {
      "cell_type": "code",
      "source": [
        "def euclidean_distance(x1, y1, x2, y2):\n",
        "    return math.sqrt((x1-x2)**2 +(y1-y2)**2)"
      ],
      "metadata": {
        "id": "FPG7VIri3EWN"
      },
      "execution_count": null,
      "outputs": []
    },
    {
      "cell_type": "markdown",
      "source": [
        "### knn-predict function"
      ],
      "metadata": {
        "id": "CsCw9UYO3uwX"
      }
    },
    {
      "cell_type": "code",
      "source": [
        "def knn_predict(train_data, x, y, k):\n",
        "    distances = []\n",
        "\n",
        "    for i in train_data:\n",
        "        this_distance = euclidean_distance(i[0], i[1], x, y)\n",
        "        distances.append((this_distance, i[2]))\n",
        "\n",
        "    distances = sorted(distances)[:k]\n",
        "\n",
        "    class_one_votes = 0\n",
        "    class_two_votes = 0\n",
        "\n",
        "    for d in distances:\n",
        "        if d[1] == 0:\n",
        "            class_one_votes += 1\n",
        "        else:\n",
        "            class_two_votes += 1\n",
        "\n",
        "    return 0 if class_one_votes > class_two_votes else 1"
      ],
      "metadata": {
        "id": "RANg0HHD3q3p"
      },
      "execution_count": null,
      "outputs": []
    },
    {
      "cell_type": "markdown",
      "source": [
        "### Dataset Preparation"
      ],
      "metadata": {
        "id": "S5iwYP1VCrOx"
      }
    },
    {
      "cell_type": "code",
      "source": [
        "def generate_points(num_points, x_range, y_range):\n",
        "    points = []\n",
        "    for _ in range(num_points):\n",
        "        x = random.uniform(x_range[0], x_range[1])\n",
        "        y = random.uniform(y_range[0], y_range[1])\n",
        "        points.append((x, y))\n",
        "    return points\n",
        "\n",
        "class_one_points = 1000\n",
        "class_one_x_range = (1, 7)\n",
        "class_one_y_range = (5, 12)\n",
        "class_one = generate_points(class_one_points, class_one_x_range, class_one_y_range)\n",
        "\n",
        "class_two_points = 1000\n",
        "class_two_x_range = (3, 10)\n",
        "class_two_y_range = (3, 10)\n",
        "class_two = generate_points(class_two_points, class_two_x_range, class_two_y_range)\n",
        "\n",
        "data = []\n",
        "for point in class_one:\n",
        "    data.append((point[0], point[1], 0))\n",
        "for point in class_two:\n",
        "    data.append((point[0], point[1], 1))\n",
        "\n",
        "random.shuffle(data)\n",
        "split_idx = int(0.7 * len(data))\n",
        "train_data = data[:split_idx]\n",
        "test_data = data[split_idx:]"
      ],
      "metadata": {
        "id": "FCeRMGihA6fx"
      },
      "execution_count": null,
      "outputs": []
    },
    {
      "cell_type": "markdown",
      "source": [
        "### Updated Dataset Generation"
      ],
      "metadata": {
        "id": "kirBzq0XC43G"
      }
    },
    {
      "cell_type": "code",
      "source": [
        "def generate_points(num_points, x_range, y_range):\n",
        "    points = []\n",
        "    for _ in range(num_points):\n",
        "        # Generate a random number between 0 and 1 to determine which distribution to use\n",
        "        p = random.uniform(0, 1)\n",
        "        if p < 0.2:\n",
        "            # Use a uniform distribution\n",
        "            x = random.uniform(x_range[0], x_range[1])\n",
        "            y = random.uniform(y_range[0], y_range[1])\n",
        "        elif p < 0.6:\n",
        "            # Use a Gaussian distribution\n",
        "            mean_x = (x_range[0] + x_range[1]) / 2\n",
        "            mean_y = (y_range[0] + y_range[1]) / 2\n",
        "            stddev = 0.3 * (x_range[1] - x_range[0])\n",
        "            x = np.random.normal(mean_x, stddev)\n",
        "            y = np.random.normal(mean_y, stddev)\n",
        "        else:\n",
        "            # Use a circular distribution\n",
        "            r = random.uniform(0, (x_range[1] - x_range[0]) / 2)\n",
        "            theta = random.uniform(0, 2 * np.pi)\n",
        "            x = r * np.cos(theta) + (x_range[1] + x_range[0]) / 2\n",
        "            y = r * np.sin(theta) + (y_range[1] + y_range[0]) / 2\n",
        "        points.append((x, y))\n",
        "    return points\n",
        "\n",
        "class_one_points = 200\n",
        "class_one_x_range = (1, 100)\n",
        "class_one_y_range = (10, 120)\n",
        "class_one = generate_points(class_one_points, class_one_x_range, class_one_y_range)\n",
        "\n",
        "class_two_points = 200\n",
        "class_two_x_range = (25, 150)\n",
        "class_two_y_range = (50, 200)\n",
        "class_two = generate_points(class_two_points, class_two_x_range, class_two_y_range)\n",
        "\n",
        "data = []\n",
        "for point in class_one:\n",
        "    data.append((point[0], point[1], 0))\n",
        "for point in class_two:\n",
        "    data.append((point[0], point[1], 1))\n",
        "\n",
        "random.shuffle(data)\n",
        "split_idx = int(0.7 * len(data))\n",
        "train_data = data[:split_idx]\n",
        "test_data = data[split_idx:]"
      ],
      "metadata": {
        "id": "AnfLdAbACtOU"
      },
      "execution_count": null,
      "outputs": []
    },
    {
      "cell_type": "markdown",
      "source": [
        "### Plot the full dataset"
      ],
      "metadata": {
        "id": "79YtblSVE0Oa"
      }
    },
    {
      "cell_type": "code",
      "source": [
        "# Plot the full dataset\n",
        "plt.figure(figsize=(12, 5))\n",
        "for point in data:\n",
        "    if point[2] == 0:\n",
        "        plt.plot(point[0], point[1], \"b*\")\n",
        "    else:\n",
        "        plt.plot(point[0], point[1], \"r*\")\n",
        "plt.show()"
      ],
      "metadata": {
        "colab": {
          "base_uri": "https://localhost:8080/",
          "height": 445
        },
        "id": "Q2rTfth9EWxU",
        "outputId": "46bed0e5-a9f7-4ef5-9573-fb7746743632"
      },
      "execution_count": null,
      "outputs": [
        {
          "output_type": "display_data",
          "data": {
            "text/plain": [
              "<Figure size 1200x500 with 1 Axes>"
            ],
            "image/png": "[encoded data removed]"
          },
          "metadata": {}
        }
      ]
    },
    {
      "cell_type": "code",
      "source": [
        "# Calculate accuracy\n",
        "correct = 0\n",
        "for test_point in test_data:\n",
        "    predicted_class = knn_predict(train_data, test_point[0], test_point[1], 3)\n",
        "    if predicted_class == test_point[2]:\n",
        "        correct += 1\n",
        "accuracy = correct / len(test_data)\n",
        "\n",
        "print(\"Accuracy:\", accuracy)"
      ],
      "metadata": {
        "colab": {
          "base_uri": "https://localhost:8080/"
        },
        "id": "wawqTk45EweX",
        "outputId": "22d9aea1-a8db-4523-b702-2f88559086d8"
      },
      "execution_count": null,
      "outputs": [
        {
          "output_type": "stream",
          "name": "stdout",
          "text": [
            "Accuracy: 0.85\n"
          ]
        }
      ]
    },
    {
      "cell_type": "markdown",
      "source": [
        "### Testing with random input"
      ],
      "metadata": {
        "id": "l6K0COFjK3eP"
      }
    },
    {
      "cell_type": "code",
      "source": [
        "# Plot the points\n",
        "plt.figure(figsize=(8, 3))\n",
        "\n",
        "for point in train_data:\n",
        "    if point[2] == 0:\n",
        "        plt.plot(point[0], point[1], \"b*\")\n",
        "    else:\n",
        "        plt.plot(point[0], point[1], \"y*\")\n",
        "\n",
        "x = float(input(\"Please provide x coordinate of your point: \"))\n",
        "y = float(input(\"Please provide y coordinate of your point: \"))\n",
        "predicted_class = knn_predict(train_data, x, y, 3)\n",
        "\n",
        "if predicted_class == 0:\n",
        "    print(\"Your given point belongs to class one\")\n",
        "    plt.plot(x, y, \"m*\")\n",
        "else:\n",
        "    print(\"Your given point belongs to class two\")\n",
        "    plt.plot(x, y, \"m*\")\n",
        "\n",
        "plt.show()"
      ],
      "metadata": {
        "colab": {
          "base_uri": "https://localhost:8080/",
          "height": 345
        },
        "id": "1aiHgtllJJJX",
        "outputId": "3ec26ef7-e309-4c90-ff09-e263e9a07a30"
      },
      "execution_count": null,
      "outputs": [
        {
          "output_type": "stream",
          "name": "stdout",
          "text": [
            "Please provide x coordinate of your point: 30\n",
            "Please provide y coordinate of your point: 120\n",
            "Your given point belongs to class two\n"
          ]
        },
        {
          "output_type": "display_data",
          "data": {
            "text/plain": [
              "<Figure size 800x300 with 1 Axes>"
            ],
            "image/png": "[encoded data removed]"
          },
          "metadata": {}
        }
      ]
    },
    {
      "cell_type": "markdown",
      "source": [
        "# Buildin KNN Classifier"
      ],
      "metadata": {
        "id": "jPDwyAVyKs57"
      }
    },
    {
      "cell_type": "code",
      "source": [
        "X_train = [point[:2] for point in train_data]\n",
        "y_train = [point[2] for point in train_data]\n",
        "\n",
        "X_test = [point[:2] for point in test_data]\n",
        "y_test = [point[2] for point in test_data]\n",
        "\n",
        "# Training the KNN classifier\n",
        "knn = KNeighborsClassifier(n_neighbors=3)\n",
        "knn.fit(X_train, y_train)\n",
        "\n",
        "# Predicting on the test data\n",
        "y_pred = knn.predict(X_test)\n",
        "\n",
        "# Calculating accuracy\n",
        "accuracy = accuracy_score(y_test, y_pred)\n",
        "print(\"Accuracy:\", accuracy)"
      ],
      "metadata": {
        "colab": {
          "base_uri": "https://localhost:8080/"
        },
        "id": "5375d-PAKqZw",
        "outputId": "6e0c2136-846e-4010-9755-7c7f5a8b7b36"
      },
      "execution_count": null,
      "outputs": [
        {
          "output_type": "stream",
          "name": "stdout",
          "text": [
            "Accuracy: 0.85\n"
          ]
        }
      ]
    }
  ]
}