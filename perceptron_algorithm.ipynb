{
  "nbformat": 4,
  "nbformat_minor": 0,
  "metadata": {
    "colab": {
      "provenance": [],
      "authorship_tag": "ABX9TyOIuRahxxEq5DqyXgWHB/yW",
      "include_colab_link": true
    },
    "kernelspec": {
      "name": "python3",
      "display_name": "Python 3"
    },
    "language_info": {
      "name": "python"
    }
  },
  "cells": [
    {
      "cell_type": "markdown",
      "metadata": {
        "id": "view-in-github",
        "colab_type": "text"
      },
      "source": [
        "<a href=\"https://colab.research.google.com/github/Srabontideb/Basic_Neural_network_Algorithms/blob/main/perceptron_algorithm.ipynb\" target=\"_parent\"><img src=\"https://colab.research.google.com/assets/colab-badge.svg\" alt=\"Open In Colab\"/></a>"
      ]
    },
    {
      "cell_type": "code",
      "execution_count": null,
      "metadata": {
        "colab": {
          "base_uri": "https://localhost:8080/"
        },
        "id": "JkCDBYxOMqE0",
        "outputId": "3410d47a-08aa-48da-a7aa-51db551112a9"
      },
      "outputs": [
        {
          "output_type": "stream",
          "name": "stdout",
          "text": [
            "Inputs: [0 0], Prediction: 1\n",
            "Inputs: [0 1], Prediction: 1\n",
            "Inputs: [1 0], Prediction: 0\n",
            "Inputs: [1 1], Prediction: 0\n"
          ]
        }
      ],
      "source": [
        "import numpy as np\n",
        "\n",
        "class Perceptron:\n",
        "    def __init__(self, input_size, learning_rate=0.1, num_epochs=100):\n",
        "        self.weights = np.zeros(input_size)\n",
        "        self.bias = 0\n",
        "        self.learning_rate = learning_rate\n",
        "        self.num_epochs = num_epochs\n",
        "\n",
        "    def activate(self, x):\n",
        "        # Threshold activation function (Heaviside step function)\n",
        "        return 1 if x >= 0 else 0\n",
        "\n",
        "    def predict(self, inputs):\n",
        "        # Calculate the weighted sum of inputs and add the bias\n",
        "        z = np.dot(inputs, self.weights) + self.bias\n",
        "        # Apply the activation function\n",
        "        return self.activate(z)\n",
        "\n",
        "    def train(self, training_data, labels):\n",
        "        for epoch in range(self.num_epochs):\n",
        "            for inputs, label in zip(training_data, labels):\n",
        "                prediction = self.predict(inputs)\n",
        "                error = label - prediction\n",
        "                # Update weights and bias\n",
        "                self.weights += self.learning_rate * error * inputs\n",
        "                self.bias += self.learning_rate * error\n",
        "\n",
        "if __name__ == \"__main__\":\n",
        "    # Example training data and labels (XOR gate)\n",
        "    training_data = np.array([[0, 0], [0, 1], [1, 0], [1, 1]])\n",
        "    labels = np.array([0, 1, 1, 0])  # XOR gate labels\n",
        "\n",
        "    # Create a perceptron with two input neurons (matching the input data shape)\n",
        "    perceptron = Perceptron(input_size=2)\n",
        "\n",
        "    # Train the perceptron\n",
        "    perceptron.train(training_data, labels)\n",
        "\n",
        "    # Test the trained perceptron\n",
        "    test_data = np.array([[0, 0], [0, 1], [1, 0], [1, 1]])\n",
        "    for inputs in test_data:\n",
        "        prediction = perceptron.predict(inputs)\n",
        "        print(f\"Inputs: {inputs}, Prediction: {prediction}\")\n"
      ]
    },
    {
      "cell_type": "code",
      "source": [],
      "metadata": {
        "id": "gvy--91AaYZq"
      },
      "execution_count": null,
      "outputs": []
    }
  ]
}