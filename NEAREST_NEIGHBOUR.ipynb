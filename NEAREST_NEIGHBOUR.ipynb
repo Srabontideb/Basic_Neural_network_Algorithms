{
  "nbformat": 4,
  "nbformat_minor": 0,
  "metadata": {
    "colab": {
      "provenance": [],
      "authorship_tag": "ABX9TyMJ07qmsDbF9klKD3Ktkp/A",
      "include_colab_link": true
    },
    "kernelspec": {
      "name": "python3",
      "display_name": "Python 3"
    },
    "language_info": {
      "name": "python"
    }
  },
  "cells": [
    {
      "cell_type": "markdown",
      "metadata": {
        "id": "view-in-github",
        "colab_type": "text"
      },
      "source": [
        "<a href=\"https://colab.research.google.com/github/Srabontideb/Basic_Neural_network_Algorithms/blob/main/NEAREST_NEIGHBOUR.ipynb\" target=\"_parent\"><img src=\"https://colab.research.google.com/assets/colab-badge.svg\" alt=\"Open In Colab\"/></a>"
      ]
    },
    {
      "cell_type": "code",
      "execution_count": null,
      "metadata": {
        "id": "gloCn3xdWO-3"
      },
      "outputs": [],
      "source": [
        "import math\n",
        "import random\n",
        "import numpy as np\n",
        "import matplotlib.pyplot as plt"
      ]
    },
    {
      "cell_type": "code",
      "source": [
        "def euclidean_distance(x1, y1, x2, y2):\n",
        "    return math.sqrt((x1-x2)**2 +(y1-y2)**2)"
      ],
      "metadata": {
        "id": "-vu5afxvXH5_"
      },
      "execution_count": null,
      "outputs": []
    },
    {
      "cell_type": "code",
      "source": [
        "# Define the generate_points function\n",
        "def generate_points(num_points, x_range, y_range):\n",
        "    points = []\n",
        "    for _ in range(num_points):\n",
        "        x = random.uniform(x_range[0], x_range[1])\n",
        "        y = random.uniform(y_range[0], y_range[1])\n",
        "        points.append((x, y))\n",
        "    return points\n",
        "\n",
        "class_one_points = 1000\n",
        "class_one_x_range = (1, 7)\n",
        "class_one_y_range = (5, 12)\n",
        "class_one = generate_points(class_one_points, class_one_x_range, class_one_y_range)\n",
        "\n",
        "class_two_points = 1000\n",
        "class_two_x_range = (3, 10)\n",
        "class_two_y_range = (3, 10)\n",
        "class_two = generate_points(class_two_points, class_two_x_range, class_two_y_range)\n",
        "\n",
        "data = []\n",
        "for point in class_one:\n",
        "    data.append((point[0], point[1], 0))\n",
        "for point in class_two:\n",
        "    data.append((point[0], point[1], 1))\n",
        "\n",
        "random.shuffle(data)\n",
        "split_idx = int(0.7 * len(data))\n",
        "train_data = data[:split_idx]\n",
        "test_data = data[split_idx:]"
      ],
      "metadata": {
        "id": "rz7Z1RHgY0QW"
      },
      "execution_count": null,
      "outputs": []
    },
    {
      "cell_type": "code",
      "source": [
        "def generate_points(num_points, x_range, y_range):\n",
        "    points = []\n",
        "    for _ in range(num_points):\n",
        "        # Generate a random number between 0 and 1 to determine which distribution to use\n",
        "        p = random.uniform(0, 1)\n",
        "        if p < 0.2:\n",
        "            # Use a uniform distribution\n",
        "            x = random.uniform(x_range[0], x_range[1])\n",
        "            y = random.uniform(y_range[0], y_range[1])\n",
        "        elif p < 0.6:\n",
        "            # Use a Gaussian distribution\n",
        "            mean_x = (x_range[0] + x_range[1]) / 2\n",
        "            mean_y = (y_range[0] + y_range[1]) / 2\n",
        "            stddev = 0.3 * (x_range[1] - x_range[0])\n",
        "            x = np.random.normal(mean_x, stddev)\n",
        "            y = np.random.normal(mean_y, stddev)\n",
        "        else:\n",
        "            # Use a circular distribution\n",
        "            r = random.uniform(0, (x_range[1] - x_range[0]) / 2)\n",
        "            theta = random.uniform(0, 2 * np.pi)\n",
        "            x = r * np.cos(theta) + (x_range[1] + x_range[0]) / 2\n",
        "            y = r * np.sin(theta) + (y_range[1] + y_range[0]) / 2\n",
        "        points.append((x, y))\n",
        "    return points\n",
        "\n",
        "class_one_points = 200\n",
        "class_one_x_range = (1, 100)\n",
        "class_one_y_range = (10, 120)\n",
        "class_one = generate_points(class_one_points, class_one_x_range, class_one_y_range)\n",
        "\n",
        "class_two_points = 200\n",
        "class_two_x_range = (25, 150)\n",
        "class_two_y_range = (50, 200)\n",
        "class_two = generate_points(class_two_points, class_two_x_range, class_two_y_range)\n",
        "\n",
        "data = []\n",
        "for point in class_one:\n",
        "    data.append((point[0], point[1], 0))\n",
        "for point in class_two:\n",
        "    data.append((point[0], point[1], 1))\n",
        "\n",
        "random.shuffle(data)\n",
        "split_idx = int(0.7 * len(data))\n",
        "train_data = data[:split_idx]\n",
        "test_data = data[split_idx:]"
      ],
      "metadata": {
        "id": "NuaceTDecmyq"
      },
      "execution_count": null,
      "outputs": []
    },
    {
      "cell_type": "code",
      "source": [
        "print(len(data))"
      ],
      "metadata": {
        "colab": {
          "base_uri": "https://localhost:8080/"
        },
        "id": "5F4Tuzbjemz2",
        "outputId": "fa66a492-319c-48a3-bc14-d2386a2786ca"
      },
      "execution_count": null,
      "outputs": [
        {
          "output_type": "stream",
          "name": "stdout",
          "text": [
            "400\n"
          ]
        }
      ]
    },
    {
      "cell_type": "code",
      "source": [
        "def nearest_neighbor(x, X_train, y_train):\n",
        "    min_distance = float('inf')\n",
        "    nearest_label = None\n",
        "\n",
        "    for i in range(len(X_train)):\n",
        "        distance = euclidean_distance(x[0], x[1], X_train[i][0], X_train[i][1])\n",
        "        if distance < min_distance:\n",
        "            min_distance = distance\n",
        "            nearest_label = y_train[i]\n",
        "\n",
        "    return nearest_label"
      ],
      "metadata": {
        "id": "SOLJbSxtaDjP"
      },
      "execution_count": null,
      "outputs": []
    },
    {
      "cell_type": "code",
      "source": [
        "new_point = [150,200]\n",
        "nearest_neighbor_class = nearest_neighbor(new_point, np.array(data)[:, :2], np.array(data)[:,2])"
      ],
      "metadata": {
        "id": "4-BHNIW6fHKg"
      },
      "execution_count": null,
      "outputs": []
    },
    {
      "cell_type": "code",
      "source": [
        "print(nearest_neighbor_class)"
      ],
      "metadata": {
        "colab": {
          "base_uri": "https://localhost:8080/"
        },
        "id": "gg8t0030fuGA",
        "outputId": "37a58304-7d21-4869-d0ad-5c3b6193f2fb"
      },
      "execution_count": null,
      "outputs": [
        {
          "output_type": "stream",
          "name": "stdout",
          "text": [
            "1.0\n"
          ]
        }
      ]
    },
    {
      "cell_type": "code",
      "source": [
        "plt.figure(figsize=(12, 5))\n",
        "for point in data:\n",
        "    if point[2] == 0:\n",
        "        plt.plot(point[0], point[1], \"b*\")\n",
        "    else:\n",
        "        plt.plot(point[0], point[1], \"r*\")\n",
        "\n",
        "if nearest_neighbor_class == 0.0:\n",
        "  plt.plot(new_point[0], new_point[1], color=\"blue\", marker='x')\n",
        "else:\n",
        "  plt.plot(new_point[0], new_point[1], color=\"red\", marker='x')\n",
        "plt.show()"
      ],
      "metadata": {
        "colab": {
          "base_uri": "https://localhost:8080/",
          "height": 445
        },
        "id": "j-MoxKljhDGd",
        "outputId": "b7e697f5-fdb5-4ecf-beba-684b57185ad0"
      },
      "execution_count": null,
      "outputs": [
        {
          "output_type": "display_data",
          "data": {
            "text/plain": [
              "<Figure size 1200x500 with 1 Axes>"
            ],
            "image/png": "[encoded data removed]"
          },
          "metadata": {}
        }
      ]
    },
    {
      "cell_type": "code",
      "source": [],
      "metadata": {
        "id": "lvxwZkZdh_9K"
      },
      "execution_count": null,
      "outputs": []
    }
  ]
}