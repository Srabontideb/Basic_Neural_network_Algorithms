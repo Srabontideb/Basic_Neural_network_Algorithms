{
  "nbformat": 4,
  "nbformat_minor": 0,
  "metadata": {
    "colab": {
      "provenance": [],
      "include_colab_link": true
    },
    "kernelspec": {
      "name": "python3",
      "display_name": "Python 3"
    },
    "language_info": {
      "name": "python"
    }
  },
  "cells": [
    {
      "cell_type": "markdown",
      "metadata": {
        "id": "view-in-github",
        "colab_type": "text"
      },
      "source": [
        "<a href=\"https://colab.research.google.com/github/Srabontideb/Basic_Neural_network_Algorithms/blob/main/kohonen_%26_hopfield(lab_04).ipynb\" target=\"_parent\"><img src=\"https://colab.research.google.com/assets/colab-badge.svg\" alt=\"Open In Colab\"/></a>"
      ]
    },
    {
      "cell_type": "markdown",
      "source": [
        "The Kohonen algorithm, also known as the Self-Organizing Map (SOM) algorithm, is an unsupervised learning technique developed by Teuvo Kohonen in the 1980s. It is not a deep learning algorithm, but rather a shallow neural network that focuses on dimensionality reduction and feature extraction.\n",
        "\n",
        "Steps of Kohenen:\n",
        "\n",
        "1. **Initialization**: Randomly assign weights to neurons.\n",
        "2. **Competitive Learning**: Find the Best Matching Unit (BMU) for each input data point.\n",
        "3. **Cooperative Learning**: Update the BMU and its neighbors' weights.\n",
        "4. **Convergence**: Repeat steps 2-3 until the network reaches a stable state or a set number of iterations.\n"
      ],
      "metadata": {
        "id": "O2v6lR6eMx3d"
      }
    },
    {
      "cell_type": "code",
      "source": [
        "import matplotlib.pyplot as plt\n",
        "import numpy as np\n",
        "import math"
      ],
      "metadata": {
        "id": "Z8gF3PD9M0mJ"
      },
      "execution_count": null,
      "outputs": []
    },
    {
      "cell_type": "markdown",
      "source": [
        "Initilize Weight"
      ],
      "metadata": {
        "id": "PW-LMKwMNAt5"
      }
    },
    {
      "cell_type": "code",
      "source": [
        "def initialize_weights(input_dim, map_size):\n",
        "    return np.random.rand(map_size[0], map_size[1], input_dim)\n"
      ],
      "metadata": {
        "id": "fY-aHMCSNB2B"
      },
      "execution_count": null,
      "outputs": []
    },
    {
      "cell_type": "markdown",
      "source": [
        "BMU finding & weight updating function"
      ],
      "metadata": {
        "id": "vMmy0NxkNMMu"
      }
    },
    {
      "cell_type": "code",
      "source": [
        "def find_bmu(input_vector, weights):\n",
        "    distances = np.linalg.norm(input_vector - weights, axis=2)\n",
        "    bmu_idx = np.unravel_index(np.argmin(distances), distances.shape)\n",
        "    return bmu_idx\n",
        "\n",
        "def update_weights(weights, bmu_idx, input_vector, learning_rate, radius):\n",
        "    for i in range(weights.shape[0]):\n",
        "        for j in range(weights.shape[1]):\n",
        "            distance = np.linalg.norm([i - bmu_idx[0], j - bmu_idx[1]])\n",
        "            if distance <= radius:\n",
        "                weights[i, j] += learning_rate * (input_vector - weights[i, j])\n",
        "\n",
        "def get_bmus(X, trained_weights):\n",
        "    bmus = []\n",
        "    for input_vector in X:\n",
        "        bmu_idx = find_bmu(input_vector, trained_weights)\n",
        "        bmus.append(bmu_idx)\n",
        "    return np.array(bmus)"
      ],
      "metadata": {
        "id": "tLWTd7hLNN9P"
      },
      "execution_count": null,
      "outputs": []
    },
    {
      "cell_type": "markdown",
      "source": [
        "Train function"
      ],
      "metadata": {
        "id": "CdyM-FWXN5UQ"
      }
    },
    {
      "cell_type": "code",
      "source": [
        "def train_som(X, map_size, epochs, init_learning_rate, init_radius):\n",
        "    input_dim = X.shape[1]\n",
        "    weights = initialize_weights(input_dim, map_size)\n",
        "\n",
        "    for epoch in range(epochs):\n",
        "        learning_rate = init_learning_rate * (1 - epoch / epochs)\n",
        "        radius = init_radius * (1 - epoch / epochs)\n",
        "\n",
        "        for input_vector in X:\n",
        "            bmu_idx = find_bmu(input_vector, weights)\n",
        "            update_weights(weights, bmu_idx, input_vector, learning_rate, radius)\n",
        "\n",
        "    return weights"
      ],
      "metadata": {
        "id": "pCL4W_SfN8dq"
      },
      "execution_count": null,
      "outputs": []
    },
    {
      "cell_type": "markdown",
      "source": [
        "Dataset Generation"
      ],
      "metadata": {
        "id": "8-nks6xRODzr"
      }
    },
    {
      "cell_type": "code",
      "source": [
        "# Create a random dataset with two groups\n",
        "group1 = np.random.rand(100, 2) * 0.5\n",
        "group2 = (np.random.rand(100, 2) * 0.5) + 0.5\n",
        "X = np.vstack([group1, group2])\n",
        "print(X)"
      ],
      "metadata": {
        "id": "MdFRUNx-OEnw",
        "colab": {
          "base_uri": "https://localhost:8080/"
        },
        "outputId": "78e43087-0b2d-4533-97ec-ab52971a0fc7"
      },
      "execution_count": null,
      "outputs": [
        {
          "output_type": "stream",
          "name": "stdout",
          "text": [
            "[[0.17279564 0.15378032]\n",
            " [0.10278027 0.1999033 ]\n",
            " [0.14977807 0.15888381]\n",
            " [0.28337183 0.10795367]\n",
            " [0.19016663 0.06914208]\n",
            " [0.32066487 0.13498101]\n",
            " [0.46476703 0.41877566]\n",
            " [0.38568983 0.05761511]\n",
            " [0.37005331 0.28217604]\n",
            " [0.00790111 0.25358176]\n",
            " [0.16225766 0.07564935]\n",
            " [0.25540026 0.45790204]\n",
            " [0.29451848 0.01013904]\n",
            " [0.28920189 0.15867234]\n",
            " [0.06999735 0.17187101]\n",
            " [0.29313898 0.03819378]\n",
            " [0.05711024 0.48321311]\n",
            " [0.37716345 0.08853809]\n",
            " [0.06289007 0.33708762]\n",
            " [0.28342856 0.33523626]\n",
            " [0.09111602 0.20941169]\n",
            " [0.05686001 0.05752768]\n",
            " [0.07828621 0.06149481]\n",
            " [0.17975692 0.41620987]\n",
            " [0.04721503 0.05726649]\n",
            " [0.25975642 0.42669337]\n",
            " [0.17915046 0.20591797]\n",
            " [0.31611986 0.27407561]\n",
            " [0.12411207 0.49970795]\n",
            " [0.46539937 0.3966585 ]\n",
            " [0.40863345 0.14922802]\n",
            " [0.1819458  0.49823933]\n",
            " [0.25164266 0.18545784]\n",
            " [0.18355548 0.00868229]\n",
            " [0.21371778 0.29514558]\n",
            " [0.11367635 0.29202238]\n",
            " [0.30286684 0.13857106]\n",
            " [0.34555632 0.44710134]\n",
            " [0.11307538 0.37186531]\n",
            " [0.38414505 0.22535297]\n",
            " [0.22964937 0.41136573]\n",
            " [0.03671748 0.42100008]\n",
            " [0.18420281 0.17447873]\n",
            " [0.40796268 0.13855153]\n",
            " [0.32655358 0.36642699]\n",
            " [0.14050426 0.28209138]\n",
            " [0.37109104 0.12183673]\n",
            " [0.11755225 0.18083151]\n",
            " [0.2822477  0.16049719]\n",
            " [0.26073187 0.11588792]\n",
            " [0.31290845 0.10863557]\n",
            " [0.09641613 0.44758399]\n",
            " [0.09785428 0.38257525]\n",
            " [0.38856588 0.17868984]\n",
            " [0.16962652 0.26146738]\n",
            " [0.49689055 0.49540014]\n",
            " [0.27625405 0.0449981 ]\n",
            " [0.19682753 0.14250587]\n",
            " [0.28542796 0.16983511]\n",
            " [0.0452497  0.27247561]\n",
            " [0.11158796 0.44151502]\n",
            " [0.27041074 0.09063201]\n",
            " [0.13904572 0.08774203]\n",
            " [0.0553766  0.23839306]\n",
            " [0.05061298 0.09958396]\n",
            " [0.15127416 0.00237579]\n",
            " [0.06209155 0.41361813]\n",
            " [0.1345723  0.14760027]\n",
            " [0.06506912 0.42737847]\n",
            " [0.31477225 0.39896076]\n",
            " [0.48550708 0.30293187]\n",
            " [0.23650418 0.12421614]\n",
            " [0.25072589 0.43733203]\n",
            " [0.32893095 0.46439437]\n",
            " [0.24271486 0.27789276]\n",
            " [0.24649071 0.41110237]\n",
            " [0.2832592  0.40308844]\n",
            " [0.23470151 0.08827413]\n",
            " [0.05786161 0.19264092]\n",
            " [0.09939653 0.22584815]\n",
            " [0.12258424 0.46256417]\n",
            " [0.25405968 0.35886978]\n",
            " [0.3148235  0.19430946]\n",
            " [0.3530474  0.04445487]\n",
            " [0.19666503 0.42726009]\n",
            " [0.1726899  0.10598463]\n",
            " [0.31898039 0.19299738]\n",
            " [0.12189792 0.42098538]\n",
            " [0.11060723 0.34530687]\n",
            " [0.46783693 0.43804132]\n",
            " [0.09067463 0.10592179]\n",
            " [0.44217894 0.17557694]\n",
            " [0.20690106 0.16308483]\n",
            " [0.34393371 0.02005762]\n",
            " [0.11223347 0.29019054]\n",
            " [0.14968688 0.01770707]\n",
            " [0.01361204 0.2703366 ]\n",
            " [0.41833408 0.2899702 ]\n",
            " [0.424188   0.19651472]\n",
            " [0.48079916 0.29082221]\n",
            " [0.98206293 0.64243114]\n",
            " [0.9612977  0.95882847]\n",
            " [0.52498448 0.68580112]\n",
            " [0.73381765 0.5417948 ]\n",
            " [0.88570739 0.64444502]\n",
            " [0.87439492 0.81320807]\n",
            " [0.59203001 0.52117179]\n",
            " [0.66522405 0.60507245]\n",
            " [0.64891171 0.73873664]\n",
            " [0.7696233  0.77673302]\n",
            " [0.83995827 0.69819843]\n",
            " [0.5401802  0.63647588]\n",
            " [0.69243927 0.90806217]\n",
            " [0.65718137 0.72015554]\n",
            " [0.83541733 0.89176576]\n",
            " [0.79641167 0.95102799]\n",
            " [0.5590932  0.505579  ]\n",
            " [0.60268178 0.71142278]\n",
            " [0.58431654 0.79295817]\n",
            " [0.52694667 0.59000144]\n",
            " [0.73353284 0.72960981]\n",
            " [0.54555384 0.92100129]\n",
            " [0.78090945 0.72335474]\n",
            " [0.95530961 0.8937468 ]\n",
            " [0.98294666 0.77515344]\n",
            " [0.71182704 0.90443846]\n",
            " [0.82665363 0.61875365]\n",
            " [0.87415877 0.7285331 ]\n",
            " [0.56649835 0.80845262]\n",
            " [0.77312741 0.66398384]\n",
            " [0.67607804 0.5781713 ]\n",
            " [0.8922834  0.6608435 ]\n",
            " [0.5395531  0.61905463]\n",
            " [0.55343957 0.59036301]\n",
            " [0.83751445 0.70005065]\n",
            " [0.95332386 0.71823361]\n",
            " [0.82618362 0.79596116]\n",
            " [0.95406191 0.78749176]\n",
            " [0.66960226 0.71944287]\n",
            " [0.91583421 0.87432109]\n",
            " [0.52455048 0.80374833]\n",
            " [0.84470245 0.98230739]\n",
            " [0.96013109 0.81196782]\n",
            " [0.6714432  0.57804418]\n",
            " [0.83399111 0.849095  ]\n",
            " [0.98780975 0.6555458 ]\n",
            " [0.5836642  0.82346201]\n",
            " [0.62923073 0.74889516]\n",
            " [0.83212458 0.96338073]\n",
            " [0.854732   0.88633299]\n",
            " [0.51323356 0.52518378]\n",
            " [0.85988367 0.65114353]\n",
            " [0.78835007 0.9049198 ]\n",
            " [0.78668819 0.87341775]\n",
            " [0.77480332 0.93670457]\n",
            " [0.84531812 0.63945783]\n",
            " [0.66544181 0.6144475 ]\n",
            " [0.96452963 0.6039422 ]\n",
            " [0.79592934 0.98314835]\n",
            " [0.95243327 0.60758621]\n",
            " [0.72014325 0.84140004]\n",
            " [0.61159241 0.95824576]\n",
            " [0.56522059 0.6040888 ]\n",
            " [0.66672765 0.52852058]\n",
            " [0.91055613 0.99714247]\n",
            " [0.61767059 0.54820949]\n",
            " [0.59508785 0.87828472]\n",
            " [0.9767098  0.67625429]\n",
            " [0.73480299 0.94924458]\n",
            " [0.56051216 0.99317378]\n",
            " [0.73580376 0.77128781]\n",
            " [0.8045223  0.80121673]\n",
            " [0.8216732  0.60573558]\n",
            " [0.57007158 0.68206916]\n",
            " [0.77520192 0.84387367]\n",
            " [0.71285889 0.77321255]\n",
            " [0.67140717 0.80851808]\n",
            " [0.87471117 0.84305681]\n",
            " [0.80755343 0.98352187]\n",
            " [0.57349393 0.8123606 ]\n",
            " [0.50958315 0.67994444]\n",
            " [0.5184727  0.51960194]\n",
            " [0.88273352 0.69156783]\n",
            " [0.9959205  0.5039172 ]\n",
            " [0.76437891 0.76594546]\n",
            " [0.57429407 0.89644881]\n",
            " [0.87833221 0.82682217]\n",
            " [0.63501472 0.97090904]\n",
            " [0.90734317 0.66279379]\n",
            " [0.58957241 0.93271191]\n",
            " [0.88007261 0.99406619]\n",
            " [0.95121071 0.57905835]\n",
            " [0.89880566 0.65005599]\n",
            " [0.50192196 0.74564765]\n",
            " [0.96316481 0.5756133 ]\n",
            " [0.77933985 0.71826838]\n",
            " [0.61165281 0.74445007]\n",
            " [0.73273421 0.83816337]\n",
            " [0.93250127 0.856438  ]\n",
            " [0.9720289  0.81846454]]\n"
          ]
        }
      ]
    },
    {
      "cell_type": "markdown",
      "source": [
        "Training"
      ],
      "metadata": {
        "id": "6QXj6krOOI-J"
      }
    },
    {
      "cell_type": "code",
      "source": [
        "# Train the SOM with the dataset\n",
        "map_size = (10, 10)\n",
        "\n",
        "\n",
        "epochs = 100\n",
        "init_learning_rate = 0.1\n",
        "init_radius = max(map_size) / 2\n",
        "\n",
        "trained_weights = train_som(X, map_size, epochs, init_learning_rate, init_radius)\n",
        "\n",
        "# Get the BMUs for each data point in the dataset\n",
        "bmus = get_bmus(X, trained_weights)\n"
      ],
      "metadata": {
        "id": "yKOX9RS8OKHD"
      },
      "execution_count": null,
      "outputs": []
    },
    {
      "cell_type": "markdown",
      "source": [
        "Plotting (testing)"
      ],
      "metadata": {
        "id": "sSC6n8TUORQk"
      }
    },
    {
      "cell_type": "code",
      "source": [
        "def plot_som_clusters(X, bmus):\n",
        "    group_labels = np.zeros(len(bmus))\n",
        "\n",
        "    # Assign labels to each data point based on their group\n",
        "    group_labels[:len(group1)] = 0\n",
        "    group_labels[len(group1):] = 1\n",
        "\n",
        "    plt.scatter(X[:, 0], X[:, 1], c=group_labels, cmap='coolwarm', marker='s')\n",
        "    plt.title('Self-Organizing Map Clustering')\n",
        "    plt.show()\n",
        "\n",
        "# Visualize the SOM clustering\n",
        "plot_som_clusters(X, bmus)\n"
      ],
      "metadata": {
        "colab": {
          "base_uri": "https://localhost:8080/",
          "height": 452
        },
        "id": "mRTEyzWcOTTl",
        "outputId": "f6ee80fa-9d85-49dd-95f2-97062aae0e37"
      },
      "execution_count": null,
      "outputs": [
        {
          "output_type": "display_data",
          "data": {
            "text/plain": [
              "<Figure size 640x480 with 1 Axes>"
            ],
            "image/png": "[encoded data removed]"
          },
          "metadata": {}
        }
      ]
    },
    {
      "cell_type": "code",
      "source": [
        "\n",
        "# To calculate accuracy, we assume each data point has a known label (group 1 or group 2 in this case).\n",
        "# Accuracy will be calculated based on whether the majority label of data points for which each neuron is the BMU matches the actual group of those data points.\n",
        "\n",
        "def calculate_som_accuracy(X, bmus, map_size, group1, group2):\n",
        "    # Create labels for the data points: 0 for Group 1, 1 for Group 2\n",
        "    labels = np.array([0] * len(group1) + [1] * len(group2))\n",
        "\n",
        "    # Create a map to store the majority label for each neuron\n",
        "    neuron_labels = np.empty(map_size, dtype=int)\n",
        "\n",
        "    # Count labels for each neuron's BMUs\n",
        "    for i in range(map_size[0]):\n",
        "        for j in range(map_size[1]):\n",
        "            # Get all data points for which this neuron is the BMU\n",
        "            bmu_mask = (bmus == [i, j]).all(axis=1)\n",
        "            if np.any(bmu_mask):\n",
        "                # Assign majority label\n",
        "                neuron_labels[i, j] = np.bincount(labels[bmu_mask]).argmax()\n",
        "            else:\n",
        "                # If no data points for this neuron, assign a dummy label (e.g., -1)\n",
        "                neuron_labels[i, j] = -1\n",
        "\n",
        "    # Calculate accuracy\n",
        "    correct_predictions = 0\n",
        "    for idx, label in enumerate(labels):\n",
        "        if neuron_labels[tuple(bmus[idx])] == label:\n",
        "            correct_predictions += 1\n",
        "\n",
        "    accuracy = correct_predictions / len(labels)\n",
        "    return accuracy\n",
        "\n",
        "# Calculate the accuracy\n",
        "accuracy = calculate_som_accuracy(X, bmus, map_size, group1, group2)\n",
        "accuracy"
      ],
      "metadata": {
        "colab": {
          "base_uri": "https://localhost:8080/"
        },
        "id": "4DudlzJrSd2N",
        "outputId": "61dfc23d-6711-4c75-92d2-5790e5e76050"
      },
      "execution_count": null,
      "outputs": [
        {
          "output_type": "execute_result",
          "data": {
            "text/plain": [
              "0.995"
            ]
          },
          "metadata": {},
          "execution_count": 16
        }
      ]
    },
    {
      "cell_type": "markdown",
      "source": [
        "**Hopfield**"
      ],
      "metadata": {
        "id": "PxrzZnCsOwBc"
      }
    },
    {
      "cell_type": "markdown",
      "source": [
        "Hopfield\n",
        "The Hopfield network is a type of recurrent neural network, developed by John Hopfield in 1982. It is used primarily for associative memory and pattern recognition tasks. The network consists of interconnected neurons that act as both input and output nodes. It has a simple learning rule and can store multiple patterns in its memory, which can then be recalled using partial or noisy inputs.\n",
        "\n",
        "The main steps of the Hopfield algorithm are as follows:\n",
        "\n",
        "1. **Initialization**: Initialize the network's weights and biases. The weights are symmetric, and the diagonal elements (self-connections) are set to zero.\n",
        "2. **Learning**: Train the network using the Hebbian learning rule to store the desired patterns. This involves updating the weights based on the outer product of the patterns.\n",
        "3. **Energy**: Compute the energy function for the network, which is a measure of the stability of the network's states.\n",
        "4. **Recall**: Given a partial or noisy input pattern, update the network's neurons asynchronously using the activation function until the network converges to a stable state, which corresponds to one of the stored patterns.\n"
      ],
      "metadata": {
        "id": "HXynenQ2Ocfk"
      }
    },
    {
      "cell_type": "code",
      "source": [
        "import matplotlib.pyplot as plt\n",
        "import numpy as np\n",
        "import math"
      ],
      "metadata": {
        "id": "GIhaTcEnOeX3"
      },
      "execution_count": null,
      "outputs": []
    },
    {
      "cell_type": "markdown",
      "source": [],
      "metadata": {
        "id": "Hm-tIcV2OhJM"
      }
    },
    {
      "cell_type": "code",
      "source": [
        "def train_hopfield(patterns):\n",
        "    n_neurons = patterns.shape[1]\n",
        "    weights = np.zeros((n_neurons, n_neurons))\n",
        "\n",
        "    for p in patterns:\n",
        "        weights += np.outer(p, p)\n",
        "\n",
        "    np.fill_diagonal(weights, 0)\n",
        "    return weights / patterns.shape[0]\n",
        "\n",
        "def recall(pattern, weights, n_steps=10):\n",
        "    for _ in range(n_steps):\n",
        "        pattern = np.sign(np.dot(pattern, weights))\n",
        "    return pattern\n",
        "\n",
        "def accuracy(predicted_patterns, true_patterns):\n",
        "    return np.mean([np.all(p == t) for p, t in zip(predicted_patterns, true_patterns)])"
      ],
      "metadata": {
        "id": "oNcHn-rPOjx8"
      },
      "execution_count": null,
      "outputs": []
    },
    {
      "cell_type": "code",
      "source": [
        "# Define binary patterns (use -1 and 1 for representing 0 and 1)\n",
        "patterns = np.array([\n",
        "    [-1, -1,  1, -1],\n",
        "    [ 1,  1, -1,  1]\n",
        "])\n",
        "\n",
        "# Train the Hopfield network\n",
        "weights = train_hopfield(patterns)\n",
        "\n",
        "# Create noisy versions of the patterns\n",
        "noisy_patterns = np.array([\n",
        "    [-1, -1, -1, -1],\n",
        "    [ 1,  1,  1,  1]\n",
        "])"
      ],
      "metadata": {
        "id": "x3avD6MROmcQ"
      },
      "execution_count": null,
      "outputs": []
    },
    {
      "cell_type": "code",
      "source": [
        "# Recall the original patterns from noisy inputs\n",
        "recalled_patterns = np.array([recall(p, weights) for p in noisy_patterns])\n",
        "print(recalled_patterns)\n",
        "# Calculate accuracy\n",
        "acc = accuracy(recalled_patterns, patterns)\n",
        "print(f\"Accuracy: {acc:.2f}\")"
      ],
      "metadata": {
        "id": "_F0Uc1GHOpAD",
        "colab": {
          "base_uri": "https://localhost:8080/"
        },
        "outputId": "3a0fee95-6473-44b9-9b59-be40e74816b3"
      },
      "execution_count": null,
      "outputs": [
        {
          "output_type": "stream",
          "name": "stdout",
          "text": [
            "[[-1. -1.  1. -1.]\n",
            " [ 1.  1. -1.  1.]]\n",
            "Accuracy: 1.00\n"
          ]
        }
      ]
    }
  ]
}
